{
 "cells": [
  {
   "cell_type": "code",
   "execution_count": null,
   "metadata": {},
   "outputs": [],
   "source": [
    "require \"selenium-webdriver\"\n",
    "require \"capybara\"\n",
    "require \"capybara/dsl\""
   ]
  },
  {
   "cell_type": "code",
   "execution_count": null,
   "metadata": {},
   "outputs": [],
   "source": [
    "Capybara.register_driver :selenium_chrome do |app|\n",
    "  Capybara::Selenium::Driver.new(app,\n",
    "  browser: :chrome)\n",
    "end\n",
    "Capybara.default_max_wait_time = 10\n",
    "Capybara.default_driver = :selenium_chrome\n",
    "\n",
    "page= Capybara.current_session"
   ]
  },
  {
   "cell_type": "code",
   "execution_count": null,
   "metadata": {},
   "outputs": [],
   "source": [
    "page.visit('http://automationpractice.com')"
   ]
  },
  {
   "cell_type": "code",
   "execution_count": null,
   "metadata": {},
   "outputs": [],
   "source": [
    "page.driver.quit"
   ]
  }
 ],
 "metadata": {
  "kernelspec": {
   "display_name": "Ruby 2.4.5",
   "language": "ruby",
   "name": "ruby"
  },
  "language_info": {
   "file_extension": ".rb",
   "mimetype": "application/x-ruby",
   "name": "ruby",
   "version": "2.4.5"
  }
 },
 "nbformat": 4,
 "nbformat_minor": 2
}
